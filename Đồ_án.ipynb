{
  "nbformat": 4,
  "nbformat_minor": 0,
  "metadata": {
    "colab": {
      "name": "Đồ.án.ipynb",
      "provenance": [],
      "collapsed_sections": [],
      "authorship_tag": "ABX9TyOkMRDJUAcWm4W6Lio+R880",
      "include_colab_link": true
    },
    "kernelspec": {
      "name": "python3",
      "display_name": "Python 3"
    },
    "language_info": {
      "name": "python"
    }
  },
  "cells": [
    {
      "cell_type": "markdown",
      "metadata": {
        "id": "view-in-github",
        "colab_type": "text"
      },
      "source": [
        "<a href=\"https://colab.research.google.com/github/viett887g/do.an.python./blob/main/%C4%90%E1%BB%93_%C3%A1n.ipynb\" target=\"_parent\"><img src=\"https://colab.research.google.com/assets/colab-badge.svg\" alt=\"Open In Colab\"/></a>"
      ]
    },
    {
      "cell_type": "code",
      "execution_count": 84,
      "metadata": {
        "colab": {
          "base_uri": "https://localhost:8080/"
        },
        "id": "xCNfpY_eMliL",
        "outputId": "87c888a6-6cc2-4e04-fcc6-8db811717fc6"
      },
      "outputs": [
        {
          "output_type": "stream",
          "name": "stdout",
          "text": [
            "Truongvanloi\n",
            "Tranvanphu\n",
            "Tranthile\n",
            "Levanxuan\n",
            "Hay nhap bat ky thu gi vao \n",
            "Truongvanloi,Tranvanphu,Tranthile,Levanxuan\n",
            "Truongvanloi,Tranvanphu,Tranthile,Levanxuan\n"
          ]
        }
      ],
      "source": [
        "#Từ bảng thiết kế, hãy xây dựng các lớp tương ứng bằng Python\n",
        "class Brain:\n",
        "  def __init__(self,IQ,EQ,AQ):\n",
        "    self.iq=IQ\n",
        "    self.eq=EQ\n",
        "    self.aq=AQ\n",
        "class People:\n",
        "  brain=Brain\n",
        "  def __init__(self,name,phonenumber,age):\n",
        "    self.n=name\n",
        "    self.pn=phonenumber\n",
        "    self.a=age\n",
        "  def run(self):\n",
        "    pass\n",
        "  def Swing(self):\n",
        "    pass\n",
        "  def Sleep(self):\n",
        "    pass\n",
        "\n",
        "class Student(People):\n",
        "  def __init__(self,name,phonenumber,age,IDnumber,classname):\n",
        "    super().__init__(name,phonenumber,age)\n",
        "    self.ID=IDnumber\n",
        "    self.cl=classname\n",
        "  def Reseach(self):\n",
        "    pass\n",
        "  def Drive(self):\n",
        "    pass\n",
        "  def manage(self,Student_management):\n",
        "    pass\n",
        "class Study(People):\n",
        "  def __init__(self,studying,education):\n",
        "    People.__init__(name, phonenumber, age)\n",
        "    self.st=studying\n",
        "    self.edu=education\n",
        "  def Crate_Jobs(self):\n",
        "    pass\n",
        "class artificial_intelligence_engineer(Student):\n",
        "  def __init__(self,name,phonenumber,age,IDnumber,classname,lever,skill):\n",
        "    Student.__init__(name,phonenumber,age,IDnumber,classname)\n",
        "    self.le=lever\n",
        "    self.sk=skill\n",
        "  def code(self):\n",
        "    pass\n",
        "class book:\n",
        "  def __init__(self,students,color,origan):\n",
        "    self.students=students\n",
        "    self.co=color\n",
        "    self.ori=origan\n",
        "students= Student\n",
        "students= book\n",
        "class qlyhocsinh:\n",
        "  def __init__(self,afawfpf,fagaf):\n",
        "    selfa=afawfpf\n",
        "    self.f=fagaf\n",
        "class Student_management:\n",
        "  def __init__(self,leader,member):\n",
        "    self.lead=leader\n",
        "    self.mem=menber\n",
        "  def manage(self):\n",
        "    pass\n",
        "  def Reseach(self,Student):\n",
        "    pass\n",
        "\n",
        "#Xây dựng chương trình cho phép nhập dữ liệu là các đối tượng của các lớp trên từ bàn phím.\n",
        "Levanxuan=Student(\"LÊ VĂN XUÂN\",\"0987654321\",\"21\",\"12N12171\",\"KTD\")\n",
        "Tranvanphu=Student(\"TRẦN VĂN PHÚ\",\"09876556789\",\"22\",\"12N271716\",\"TDH\")\n",
        "Truongvanloi=People(\"TRƯƠNG VĂN LỜI\",\"0989865454\",\"34\")\n",
        "Tranthile=People(\"TRẦN THỊ LỆ\",\"098121251\",\"20\")\n",
        "\n",
        "#Thực hiện sắp xếp danh sách các đối tượng này theo chiều tăng dần (hoặc giảm dần) trên 1 hoặc nhiều thuộc tính của đối tượng.\n",
        "A= Levanxuan.a\n",
        "B=Tranvanphu.a\n",
        "C=Truongvanloi.a\n",
        "D=Tranthile.a\n",
        "if A>B and A>C and A>D:\n",
        "  print(\"Levanxuan\")\n",
        "if B>A and B>C and B>D:\n",
        "  print(\"Tranvanphu\")\n",
        "if C>A and C>B and C>D:\n",
        "  print(\"Truongvanloi\")\n",
        "else:\n",
        "  print(\"Tranthile\")\n",
        "if A>B and A>D :\n",
        "  print(\"Levanxuan\")\n",
        "if B>D and A>D:\n",
        "  print(\"Tranvanphu\")\n",
        "else :\n",
        "  print(\"Tranthile\")\n",
        "if A>C:\n",
        "  print(\"Levanxuan\")\n",
        "  print(\"Tranthile\")\n",
        "else:\n",
        "  print(\"Tranthile\")\n",
        "  print(\"Levanxuan\")\n",
        "\n",
        "\n",
        "#Lưu kết quả vào tập tin\n",
        "f = open('test.txt', 'w+')\n",
        "print(\"Hay nhap bat ky thu gi vao \")\n",
        "with open('test.txt', 'w') as f:\n",
        "    f.write(input())\n",
        "f.close()\n",
        "#Đọc nội dung từ tập tin vào bộ nhớ và In kết quả ra màn hình\n",
        "\n",
        "f= open(\"test.txt\")\n",
        "print(f.read())\n",
        "\n",
        "\n"
      ]
    }
  ]
}